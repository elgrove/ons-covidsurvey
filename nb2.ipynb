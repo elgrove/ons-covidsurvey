{
 "cells": [
  {
   "cell_type": "code",
   "execution_count": 1,
   "source": [
    "import pandas as pd\n",
    "import os\n",
    "from datetime import datetime"
   ],
   "outputs": [],
   "metadata": {}
  },
  {
   "cell_type": "code",
   "execution_count": 2,
   "source": [
    "os.chdir('raw')\n",
    "files = [n for n in os.listdir() if n.startswith('c')]\n",
    "files.sort()"
   ],
   "outputs": [],
   "metadata": {}
  },
  {
   "cell_type": "code",
   "execution_count": 3,
   "source": [
    "df = pd.DataFrame()"
   ],
   "outputs": [],
   "metadata": {}
  },
  {
   "cell_type": "code",
   "execution_count": 4,
   "source": [
    "for file in files:\n",
    "    dicto = pd.read_excel(file, sheet_name=None)\n",
    "    if '1b' in dicto.keys():\n",
    "        sheet = pd.read_excel(file, sheet_name='1b')\n",
    "    elif '1b ' in dicto.keys():\n",
    "        sheet = pd.read_excel(file, sheet_name='1b ')\n",
    "    elif '2' in dicto.keys():\n",
    "        sheet = pd.read_excel(file, sheet_name='2')\n",
    "    else:\n",
    "        raise(IndexError)\n",
    "    df = df.append(\n",
    "        sheet.iloc[5:-10,:2].copy().dropna()\n",
    "        , ignore_index=True\n",
    "        )\n",
    "    "
   ],
   "outputs": [],
   "metadata": {}
  },
  {
   "cell_type": "code",
   "execution_count": 7,
   "source": [
    "output = df.drop_duplicates(subset='Contents', keep='last')"
   ],
   "outputs": [],
   "metadata": {}
  },
  {
   "cell_type": "code",
   "execution_count": 10,
   "source": [
    "output.columns = ['dte', 'pc']"
   ],
   "outputs": [],
   "metadata": {}
  },
  {
   "cell_type": "code",
   "execution_count": 11,
   "source": [
    "output.to_csv('../output.csv', index=False)"
   ],
   "outputs": [],
   "metadata": {}
  }
 ],
 "metadata": {
  "orig_nbformat": 4,
  "language_info": {
   "name": "python",
   "version": "3.9.6",
   "mimetype": "text/x-python",
   "codemirror_mode": {
    "name": "ipython",
    "version": 3
   },
   "pygments_lexer": "ipython3",
   "nbconvert_exporter": "python",
   "file_extension": ".py"
  },
  "kernelspec": {
   "name": "python3",
   "display_name": "Python 3.9.6  ('venv': venv)"
  },
  "interpreter": {
   "hash": "b2276d9c92129e28abc52653b12923804ba025dbaa5ff7f89c0492bb0158e2db"
  }
 },
 "nbformat": 4,
 "nbformat_minor": 2
}