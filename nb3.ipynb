{
 "cells": [
  {
   "cell_type": "code",
   "execution_count": 31,
   "source": [
    "import datetime\n",
    "import plotly.express as px\n",
    "import numpy as np"
   ],
   "outputs": [],
   "metadata": {}
  },
  {
   "cell_type": "code",
   "execution_count": 2,
   "source": [
    "import pandas as pd\n",
    "import os\n",
    "import datetime\n",
    "\n",
    "os.chdir(\"raw\")\n",
    "files = [n for n in os.listdir() if n.startswith(\"c\")]\n",
    "files.sort()\n",
    "\n",
    "df = pd.DataFrame()\n",
    "for file in files:\n",
    "    dicto = pd.read_excel(file, sheet_name=None)\n",
    "    if \"1b\" in dicto.keys():\n",
    "        sheet = pd.read_excel(file, sheet_name=\"1b\")\n",
    "    elif \"1b \" in dicto.keys():\n",
    "        sheet = pd.read_excel(file, sheet_name=\"1b \")\n",
    "    elif \"2\" in dicto.keys():\n",
    "        sheet = pd.read_excel(file, sheet_name=\"2\")\n",
    "    else:\n",
    "        raise (IndexError)\n",
    "    df = df.append(sheet.iloc[5:-10, :2].copy().dropna(), ignore_index=True)\n"
   ],
   "outputs": [],
   "metadata": {}
  },
  {
   "cell_type": "code",
   "execution_count": 40,
   "source": [
    "output = df.drop_duplicates(subset=\"Contents\", keep=\"last\").copy().reset_index(drop=True)\n",
    "output.columns = [\"dte\", \"pc\"]\n",
    "output['dte'] = pd.to_datetime(output['dte']).dt.date\n",
    "output['pc'] = np.where(output['dte'] < datetime.date(2021,5,10), output['pc']*100,output['pc'])\n",
    "output.to_csv('../output.csv', index=False)"
   ],
   "outputs": [],
   "metadata": {}
  },
  {
   "cell_type": "markdown",
   "source": [],
   "metadata": {}
  }
 ],
 "metadata": {
  "orig_nbformat": 4,
  "language_info": {
   "name": "python",
   "version": "3.9.6",
   "mimetype": "text/x-python",
   "codemirror_mode": {
    "name": "ipython",
    "version": 3
   },
   "pygments_lexer": "ipython3",
   "nbconvert_exporter": "python",
   "file_extension": ".py"
  },
  "kernelspec": {
   "name": "python3",
   "display_name": "Python 3.9.6  ('venv': venv)"
  },
  "interpreter": {
   "hash": "b2276d9c92129e28abc52653b12923804ba025dbaa5ff7f89c0492bb0158e2db"
  }
 },
 "nbformat": 4,
 "nbformat_minor": 2
}